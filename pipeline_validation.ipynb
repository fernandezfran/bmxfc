{
 "cells": [
  {
   "cell_type": "markdown",
   "metadata": {
    "tags": []
   },
   "source": [
    "# Validation of the model with experimental data"
   ]
  },
  {
   "cell_type": "code",
   "execution_count": 3,
   "metadata": {},
   "outputs": [],
   "source": [
    "import os\n",
    "import pathlib\n",
    "\n",
    "import numpy as np\n",
    "import pandas as pd\n",
    "\n",
    "DATA_PATH = pathlib.Path(os.path.join(os.path.abspath(\"datasets\")))\n",
    "PREDICTIONS_PATH = pathlib.Path(os.path.join(os.path.abspath(\"predictions\")))"
   ]
  },
  {
   "cell_type": "code",
   "execution_count": 2,
   "metadata": {},
   "outputs": [
    {
     "data": {
      "text/plain": [
       "'0.3.3'"
      ]
     },
     "execution_count": 2,
     "metadata": {},
     "output_type": "execute_result"
    }
   ],
   "source": [
    "import galpynostatic as gp\n",
    "gp.VERSION"
   ]
  },
  {
   "cell_type": "code",
   "execution_count": 5,
   "metadata": {},
   "outputs": [
    {
     "data": {
      "text/html": [
       "<div>\n",
       "<style scoped>\n",
       "    .dataframe tbody tr th:only-of-type {\n",
       "        vertical-align: middle;\n",
       "    }\n",
       "\n",
       "    .dataframe tbody tr th {\n",
       "        vertical-align: top;\n",
       "    }\n",
       "\n",
       "    .dataframe thead th {\n",
       "        text-align: right;\n",
       "    }\n",
       "</style>\n",
       "<table border=\"1\" class=\"dataframe\">\n",
       "  <thead>\n",
       "    <tr style=\"text-align: right;\">\n",
       "      <th></th>\n",
       "      <th>Material</th>\n",
       "      <th>d</th>\n",
       "      <th>dcoeff</th>\n",
       "      <th>k0</th>\n",
       "      <th>c1</th>\n",
       "      <th>SOCexp1</th>\n",
       "      <th>c2</th>\n",
       "      <th>SOCexp2</th>\n",
       "    </tr>\n",
       "  </thead>\n",
       "  <tbody>\n",
       "    <tr>\n",
       "      <th>0</th>\n",
       "      <td>Graphite</td>\n",
       "      <td>0.000750</td>\n",
       "      <td>1.233000e-10</td>\n",
       "      <td>2.310000e-07</td>\n",
       "      <td>3.0</td>\n",
       "      <td>0.540030</td>\n",
       "      <td>5</td>\n",
       "      <td>0.296843</td>\n",
       "    </tr>\n",
       "    <tr>\n",
       "      <th>1</th>\n",
       "      <td>LTO</td>\n",
       "      <td>0.000175</td>\n",
       "      <td>6.579000e-12</td>\n",
       "      <td>8.100000e-08</td>\n",
       "      <td>2.0</td>\n",
       "      <td>0.654458</td>\n",
       "      <td>5</td>\n",
       "      <td>0.346546</td>\n",
       "    </tr>\n",
       "    <tr>\n",
       "      <th>2</th>\n",
       "      <td>LFP</td>\n",
       "      <td>0.000035</td>\n",
       "      <td>2.800000e-13</td>\n",
       "      <td>1.000000e-09</td>\n",
       "      <td>2.0</td>\n",
       "      <td>0.329323</td>\n",
       "      <td>5</td>\n",
       "      <td>0.024868</td>\n",
       "    </tr>\n",
       "    <tr>\n",
       "      <th>3</th>\n",
       "      <td>LCO</td>\n",
       "      <td>0.002000</td>\n",
       "      <td>5.300000e-09</td>\n",
       "      <td>1.000000e-05</td>\n",
       "      <td>10.0</td>\n",
       "      <td>0.734328</td>\n",
       "      <td>20</td>\n",
       "      <td>0.569661</td>\n",
       "    </tr>\n",
       "    <tr>\n",
       "      <th>4</th>\n",
       "      <td>LMO</td>\n",
       "      <td>0.000003</td>\n",
       "      <td>3.510000e-14</td>\n",
       "      <td>1.900000e-08</td>\n",
       "      <td>20.0</td>\n",
       "      <td>0.863516</td>\n",
       "      <td>50</td>\n",
       "      <td>0.690223</td>\n",
       "    </tr>\n",
       "    <tr>\n",
       "      <th>5</th>\n",
       "      <td>LNMO</td>\n",
       "      <td>0.000800</td>\n",
       "      <td>1.200000e-09</td>\n",
       "      <td>1.000000e-06</td>\n",
       "      <td>12.5</td>\n",
       "      <td>0.725181</td>\n",
       "      <td>25</td>\n",
       "      <td>0.525736</td>\n",
       "    </tr>\n",
       "  </tbody>\n",
       "</table>\n",
       "</div>"
      ],
      "text/plain": [
       "   Material         d        dcoeff            k0    c1   SOCexp1  c2  \\\n",
       "0  Graphite  0.000750  1.233000e-10  2.310000e-07   3.0  0.540030   5   \n",
       "1       LTO  0.000175  6.579000e-12  8.100000e-08   2.0  0.654458   5   \n",
       "2       LFP  0.000035  2.800000e-13  1.000000e-09   2.0  0.329323   5   \n",
       "3       LCO  0.002000  5.300000e-09  1.000000e-05  10.0  0.734328  20   \n",
       "4       LMO  0.000003  3.510000e-14  1.900000e-08  20.0  0.863516  50   \n",
       "5      LNMO  0.000800  1.200000e-09  1.000000e-06  12.5  0.725181  25   \n",
       "\n",
       "    SOCexp2  \n",
       "0  0.296843  \n",
       "1  0.346546  \n",
       "2  0.024868  \n",
       "3  0.569661  \n",
       "4  0.690223  \n",
       "5  0.525736  "
      ]
     },
     "execution_count": 5,
     "metadata": {},
     "output_type": "execute_result"
    }
   ],
   "source": [
    "validation_df = pd.read_csv(DATA_PATH / \"validation_data.csv\")\n",
    "validation_df"
   ]
  }
 ],
 "metadata": {
  "kernelspec": {
   "display_name": "Python 3",
   "language": "python",
   "name": "python3"
  },
  "language_info": {
   "codemirror_mode": {
    "name": "ipython",
    "version": 3
   },
   "file_extension": ".py",
   "mimetype": "text/x-python",
   "name": "python",
   "nbconvert_exporter": "python",
   "pygments_lexer": "ipython3",
   "version": "3.8.10"
  }
 },
 "nbformat": 4,
 "nbformat_minor": 4
}
