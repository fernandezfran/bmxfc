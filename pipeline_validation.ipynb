{
 "cells": [
  {
   "cell_type": "markdown",
   "metadata": {
    "tags": []
   },
   "source": [
    "# Validation of the model with experimental data"
   ]
  },
  {
   "cell_type": "markdown",
   "metadata": {},
   "source": [
    "We install the specific [galpynostatic package](https://github.com/fernandezfran/galpynostatic) version"
   ]
  },
  {
   "cell_type": "code",
   "execution_count": 1,
   "metadata": {},
   "outputs": [],
   "source": [
    "%%capture \n",
    "!pip install -r requirements.txt"
   ]
  },
  {
   "cell_type": "markdown",
   "metadata": {},
   "source": [
    "and import the required libraries"
   ]
  },
  {
   "cell_type": "code",
   "execution_count": 2,
   "metadata": {},
   "outputs": [],
   "source": [
    "import os\n",
    "import pathlib\n",
    "\n",
    "import numpy as np\n",
    "import pandas as pd\n",
    "import scipy.interpolate\n",
    "\n",
    "DATA_PATH = pathlib.Path(os.path.join(os.path.abspath(\"datasets\")))\n",
    "PREDICTIONS_PATH = pathlib.Path(os.path.join(os.path.abspath(\"predictions\")))"
   ]
  },
  {
   "cell_type": "code",
   "execution_count": 3,
   "metadata": {},
   "outputs": [
    {
     "data": {
      "text/plain": [
       "'0.3.3'"
      ]
     },
     "execution_count": 3,
     "metadata": {},
     "output_type": "execute_result"
    }
   ],
   "source": [
    "import galpynostatic as gp\n",
    "gp.VERSION"
   ]
  },
  {
   "cell_type": "markdown",
   "metadata": {},
   "source": [
    "We load the experimental data for validation"
   ]
  },
  {
   "cell_type": "code",
   "execution_count": 4,
   "metadata": {},
   "outputs": [
    {
     "data": {
      "text/html": [
       "<div>\n",
       "<style scoped>\n",
       "    .dataframe tbody tr th:only-of-type {\n",
       "        vertical-align: middle;\n",
       "    }\n",
       "\n",
       "    .dataframe tbody tr th {\n",
       "        vertical-align: top;\n",
       "    }\n",
       "\n",
       "    .dataframe thead th {\n",
       "        text-align: right;\n",
       "    }\n",
       "</style>\n",
       "<table border=\"1\" class=\"dataframe\">\n",
       "  <thead>\n",
       "    <tr style=\"text-align: right;\">\n",
       "      <th></th>\n",
       "      <th>Material</th>\n",
       "      <th>d</th>\n",
       "      <th>dcoeff</th>\n",
       "      <th>k0</th>\n",
       "      <th>c1</th>\n",
       "      <th>SOCexp1</th>\n",
       "      <th>c2</th>\n",
       "      <th>SOCexp2</th>\n",
       "      <th>c_rate</th>\n",
       "    </tr>\n",
       "  </thead>\n",
       "  <tbody>\n",
       "    <tr>\n",
       "      <th>0</th>\n",
       "      <td>Graphite</td>\n",
       "      <td>0.000750</td>\n",
       "      <td>1.233000e-10</td>\n",
       "      <td>2.310000e-07</td>\n",
       "      <td>3.0</td>\n",
       "      <td>0.540030</td>\n",
       "      <td>5</td>\n",
       "      <td>0.296843</td>\n",
       "      <td>4.0</td>\n",
       "    </tr>\n",
       "    <tr>\n",
       "      <th>1</th>\n",
       "      <td>LTO</td>\n",
       "      <td>0.000175</td>\n",
       "      <td>6.579000e-12</td>\n",
       "      <td>8.100000e-08</td>\n",
       "      <td>2.0</td>\n",
       "      <td>0.654458</td>\n",
       "      <td>5</td>\n",
       "      <td>0.346546</td>\n",
       "      <td>4.0</td>\n",
       "    </tr>\n",
       "    <tr>\n",
       "      <th>2</th>\n",
       "      <td>LFP</td>\n",
       "      <td>0.000035</td>\n",
       "      <td>2.800000e-13</td>\n",
       "      <td>1.000000e-09</td>\n",
       "      <td>1.0</td>\n",
       "      <td>0.759624</td>\n",
       "      <td>2</td>\n",
       "      <td>0.329323</td>\n",
       "      <td>1.1</td>\n",
       "    </tr>\n",
       "    <tr>\n",
       "      <th>3</th>\n",
       "      <td>LCO</td>\n",
       "      <td>0.002000</td>\n",
       "      <td>5.300000e-09</td>\n",
       "      <td>1.000000e-05</td>\n",
       "      <td>10.0</td>\n",
       "      <td>0.734328</td>\n",
       "      <td>20</td>\n",
       "      <td>0.569661</td>\n",
       "      <td>12.0</td>\n",
       "    </tr>\n",
       "    <tr>\n",
       "      <th>4</th>\n",
       "      <td>LMO</td>\n",
       "      <td>0.000003</td>\n",
       "      <td>3.510000e-14</td>\n",
       "      <td>1.900000e-08</td>\n",
       "      <td>20.0</td>\n",
       "      <td>0.863516</td>\n",
       "      <td>50</td>\n",
       "      <td>0.690223</td>\n",
       "      <td>40.0</td>\n",
       "    </tr>\n",
       "    <tr>\n",
       "      <th>5</th>\n",
       "      <td>LNMO</td>\n",
       "      <td>0.000800</td>\n",
       "      <td>1.200000e-09</td>\n",
       "      <td>1.000000e-06</td>\n",
       "      <td>12.5</td>\n",
       "      <td>0.725181</td>\n",
       "      <td>25</td>\n",
       "      <td>0.525736</td>\n",
       "      <td>20.0</td>\n",
       "    </tr>\n",
       "  </tbody>\n",
       "</table>\n",
       "</div>"
      ],
      "text/plain": [
       "   Material         d        dcoeff            k0    c1   SOCexp1  c2  \\\n",
       "0  Graphite  0.000750  1.233000e-10  2.310000e-07   3.0  0.540030   5   \n",
       "1       LTO  0.000175  6.579000e-12  8.100000e-08   2.0  0.654458   5   \n",
       "2       LFP  0.000035  2.800000e-13  1.000000e-09   1.0  0.759624   2   \n",
       "3       LCO  0.002000  5.300000e-09  1.000000e-05  10.0  0.734328  20   \n",
       "4       LMO  0.000003  3.510000e-14  1.900000e-08  20.0  0.863516  50   \n",
       "5      LNMO  0.000800  1.200000e-09  1.000000e-06  12.5  0.725181  25   \n",
       "\n",
       "    SOCexp2  c_rate  \n",
       "0  0.296843     4.0  \n",
       "1  0.346546     4.0  \n",
       "2  0.329323     1.1  \n",
       "3  0.569661    12.0  \n",
       "4  0.690223    40.0  \n",
       "5  0.525736    20.0  "
      ]
     },
     "execution_count": 4,
     "metadata": {},
     "output_type": "execute_result"
    }
   ],
   "source": [
    "validation_df = pd.read_csv(DATA_PATH / \"validation_data.csv\")\n",
    "validation_df"
   ]
  },
  {
   "cell_type": "markdown",
   "metadata": {},
   "source": [
    "and make predictions with them"
   ]
  },
  {
   "cell_type": "code",
   "execution_count": 5,
   "metadata": {},
   "outputs": [],
   "source": [
    "interpolations, predictions = [], []\n",
    "spherical = pd.read_csv(DATA_PATH / \"simulated_map.csv\")\n",
    "\n",
    "for _, sys in validation_df.iterrows():\n",
    "    flin = scipy.interpolate.interp1d(\n",
    "        [sys[\"c1\"], sys[\"c2\"]], [sys[\"SOCexp1\"], sys[\"SOCexp2\"]]\n",
    "    )\n",
    "    soc_exp = flin(sys[\"c_rate\"])\n",
    "    interpolations.append(soc_exp)\n",
    "    \n",
    "    info = {\"d\": sys[\"d\"], \"dcoeff_\": sys[\"dcoeff\"], \"k0_\": sys[\"k0\"]}\n",
    "    soc_pred = gp.metric.umbem(\n",
    "        info, minutes=60.0 / sys[\"c_rate\"], dataset=spherical\n",
    "    )\n",
    "    predictions.append(soc_pred)"
   ]
  },
  {
   "cell_type": "markdown",
   "metadata": {},
   "source": [
    "and we save the predictions"
   ]
  },
  {
   "cell_type": "code",
   "execution_count": 6,
   "metadata": {},
   "outputs": [
    {
     "data": {
      "text/html": [
       "<div>\n",
       "<style scoped>\n",
       "    .dataframe tbody tr th:only-of-type {\n",
       "        vertical-align: middle;\n",
       "    }\n",
       "\n",
       "    .dataframe tbody tr th {\n",
       "        vertical-align: top;\n",
       "    }\n",
       "\n",
       "    .dataframe thead th {\n",
       "        text-align: right;\n",
       "    }\n",
       "</style>\n",
       "<table border=\"1\" class=\"dataframe\">\n",
       "  <thead>\n",
       "    <tr style=\"text-align: right;\">\n",
       "      <th></th>\n",
       "      <th>Material</th>\n",
       "      <th>d</th>\n",
       "      <th>dcoeff</th>\n",
       "      <th>k0</th>\n",
       "      <th>SOC_exp</th>\n",
       "      <th>SOC_pred</th>\n",
       "    </tr>\n",
       "  </thead>\n",
       "  <tbody>\n",
       "    <tr>\n",
       "      <th>0</th>\n",
       "      <td>Graphite</td>\n",
       "      <td>0.000750</td>\n",
       "      <td>1.233000e-10</td>\n",
       "      <td>2.310000e-07</td>\n",
       "      <td>0.418436</td>\n",
       "      <td>0.445421</td>\n",
       "    </tr>\n",
       "    <tr>\n",
       "      <th>1</th>\n",
       "      <td>LTO</td>\n",
       "      <td>0.000175</td>\n",
       "      <td>6.579000e-12</td>\n",
       "      <td>8.100000e-08</td>\n",
       "      <td>0.449183</td>\n",
       "      <td>0.444614</td>\n",
       "    </tr>\n",
       "    <tr>\n",
       "      <th>2</th>\n",
       "      <td>LFP</td>\n",
       "      <td>0.000035</td>\n",
       "      <td>2.800000e-13</td>\n",
       "      <td>1.000000e-09</td>\n",
       "      <td>0.716593</td>\n",
       "      <td>0.778499</td>\n",
       "    </tr>\n",
       "    <tr>\n",
       "      <th>3</th>\n",
       "      <td>LCO</td>\n",
       "      <td>0.002000</td>\n",
       "      <td>5.300000e-09</td>\n",
       "      <td>1.000000e-05</td>\n",
       "      <td>0.701395</td>\n",
       "      <td>0.716463</td>\n",
       "    </tr>\n",
       "    <tr>\n",
       "      <th>4</th>\n",
       "      <td>LMO</td>\n",
       "      <td>0.000003</td>\n",
       "      <td>3.510000e-14</td>\n",
       "      <td>1.900000e-08</td>\n",
       "      <td>0.747987</td>\n",
       "      <td>0.770205</td>\n",
       "    </tr>\n",
       "    <tr>\n",
       "      <th>5</th>\n",
       "      <td>LNMO</td>\n",
       "      <td>0.000800</td>\n",
       "      <td>1.200000e-09</td>\n",
       "      <td>1.000000e-06</td>\n",
       "      <td>0.605514</td>\n",
       "      <td>0.641796</td>\n",
       "    </tr>\n",
       "  </tbody>\n",
       "</table>\n",
       "</div>"
      ],
      "text/plain": [
       "   Material         d        dcoeff            k0   SOC_exp  SOC_pred\n",
       "0  Graphite  0.000750  1.233000e-10  2.310000e-07  0.418436  0.445421\n",
       "1       LTO  0.000175  6.579000e-12  8.100000e-08  0.449183  0.444614\n",
       "2       LFP  0.000035  2.800000e-13  1.000000e-09  0.716593  0.778499\n",
       "3       LCO  0.002000  5.300000e-09  1.000000e-05  0.701395  0.716463\n",
       "4       LMO  0.000003  3.510000e-14  1.900000e-08  0.747987  0.770205\n",
       "5      LNMO  0.000800  1.200000e-09  1.000000e-06  0.605514  0.641796"
      ]
     },
     "execution_count": 6,
     "metadata": {},
     "output_type": "execute_result"
    }
   ],
   "source": [
    "predictions_df = validation_df.copy()\n",
    "predictions_df[\"SOC_exp\"] = np.asarray(interpolations, dtype=float)\n",
    "predictions_df[\"SOC_pred\"] = predictions\n",
    "predictions_df[[\"Material\", \"d\", \"dcoeff\", \"k0\", \"SOC_exp\", \"SOC_pred\"]]"
   ]
  },
  {
   "cell_type": "code",
   "execution_count": 7,
   "metadata": {},
   "outputs": [],
   "source": [
    "predictions_df[[\"Material\", \"d\", \"dcoeff\", \"k0\", \"SOC_exp\", \"SOC_pred\"]].to_csv(\n",
    "    PREDICTIONS_PATH / \"validation_charging_rate.csv\", index=False\n",
    ")"
   ]
  }
 ],
 "metadata": {
  "kernelspec": {
   "display_name": "Python 3",
   "language": "python",
   "name": "python3"
  },
  "language_info": {
   "codemirror_mode": {
    "name": "ipython",
    "version": 3
   },
   "file_extension": ".py",
   "mimetype": "text/x-python",
   "name": "python",
   "nbconvert_exporter": "python",
   "pygments_lexer": "ipython3",
   "version": "3.8.10"
  }
 },
 "nbformat": 4,
 "nbformat_minor": 4
}
