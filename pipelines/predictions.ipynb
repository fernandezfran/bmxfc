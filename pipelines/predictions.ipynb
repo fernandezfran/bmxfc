{
 "cells": [
  {
   "cell_type": "markdown",
   "metadata": {
    "tags": []
   },
   "source": [
    "# Prediction of the metric for benchmarking an extreme fast-charging of Li-ion battery electrode materials"
   ]
  },
  {
   "cell_type": "markdown",
   "metadata": {},
   "source": [
    "We introduce a universal metric for Benchmarking battery electrode Materials for eXtreme Fast Charging (BMX-FC) as the maximum State-of-Charge (SOC) value reached when a material is charged for 15 minutes under constant current conditions. The BMX-FC takes a value of 1 when the electrode is fully charged, a value of 0.8 when it satisfies the USABC criteria (80% of the charge in 15 minutes) and lower values when they are not directly applicable as fast-charging electrodes under the USABC conditions. The BMX-FC pretends to standarize comparisions between the performance of different materials to be applied in fast-charging LIBs electrodes. The BMX-FC allows us to establish a hierarchy of materials according to its value.\n",
    "\n",
    "We base our discussion about this metric by using a galvanostatic model that considers finite-diffusion and interfacial kinetic effects that are controlled by the following four parameters:\n",
    "1. diffusion coefficient of the ions inside the material ($D$),\n",
    "2. rate constant for charge transfer ($k^0$),\n",
    "3. C-rate ($C_r$),\n",
    "4. particle size ($d$).\n",
    "\n",
    "Note that BMX-FC can also be determined experimentally or from other simulation methods. In our case, we will use [galpynostatic package](https://github.com/fernandezfran/galpynostatic)."
   ]
  },
  {
   "cell_type": "markdown",
   "metadata": {},
   "source": [
    "## Data cleaning"
   ]
  },
  {
   "cell_type": "markdown",
   "metadata": {},
   "source": [
    "First we import all the libraries that we will use in this notebook."
   ]
  },
  {
   "cell_type": "code",
   "execution_count": 1,
   "metadata": {},
   "outputs": [],
   "source": [
    "import os\n",
    "import pathlib\n",
    "\n",
    "import matplotlib.pyplot as plt\n",
    "import matplotlib.cm as cm\n",
    "import numpy as np\n",
    "import pandas as pd\n",
    "import scipy.stats\n",
    "\n",
    "DATA_PATH = pathlib.Path(os.path.abspath(os.path.join(\"..\", \"datasets\")))\n",
    "PREDICTIONS_PATH = pathlib.Path(os.path.abspath(os.path.join(\"..\", \"predictions\")))"
   ]
  },
  {
   "cell_type": "code",
   "execution_count": 2,
   "metadata": {},
   "outputs": [
    {
     "data": {
      "text/plain": [
       "'0.3.3'"
      ]
     },
     "execution_count": 2,
     "metadata": {},
     "output_type": "execute_result"
    }
   ],
   "source": [
    "import galpynostatic as gp\n",
    "gp.VERSION"
   ]
  },
  {
   "cell_type": "markdown",
   "metadata": {},
   "source": [
    "We load the data of the Supporting Information of the paper of [Xia et al](https://pubs.acs.org/doi/abs/10.1021/acsnano.2c03922):"
   ]
  },
  {
   "cell_type": "code",
   "execution_count": 3,
   "metadata": {},
   "outputs": [
    {
     "data": {
      "text/html": [
       "<div>\n",
       "<style scoped>\n",
       "    .dataframe tbody tr th:only-of-type {\n",
       "        vertical-align: middle;\n",
       "    }\n",
       "\n",
       "    .dataframe tbody tr th {\n",
       "        vertical-align: top;\n",
       "    }\n",
       "\n",
       "    .dataframe thead th {\n",
       "        text-align: right;\n",
       "    }\n",
       "</style>\n",
       "<table border=\"1\" class=\"dataframe\">\n",
       "  <thead>\n",
       "    <tr style=\"text-align: right;\">\n",
       "      <th></th>\n",
       "      <th>Material</th>\n",
       "      <th>particle_size_micro</th>\n",
       "      <th>dcoeff_cm2s</th>\n",
       "    </tr>\n",
       "  </thead>\n",
       "  <tbody>\n",
       "    <tr>\n",
       "      <th>0</th>\n",
       "      <td>LCO</td>\n",
       "      <td>5-10</td>\n",
       "      <td>1e-11 to 1e-7</td>\n",
       "    </tr>\n",
       "    <tr>\n",
       "      <th>1</th>\n",
       "      <td>LCO</td>\n",
       "      <td>NaN</td>\n",
       "      <td>1e-10 to 1.5e-9</td>\n",
       "    </tr>\n",
       "    <tr>\n",
       "      <th>2</th>\n",
       "      <td>LCO</td>\n",
       "      <td>0.5</td>\n",
       "      <td>1e-10 to 1e-8</td>\n",
       "    </tr>\n",
       "    <tr>\n",
       "      <th>3</th>\n",
       "      <td>LCO</td>\n",
       "      <td>1-5</td>\n",
       "      <td>4e-11 to 1.7e-10</td>\n",
       "    </tr>\n",
       "    <tr>\n",
       "      <th>4</th>\n",
       "      <td>LCO</td>\n",
       "      <td>0.1</td>\n",
       "      <td>1.34e-11</td>\n",
       "    </tr>\n",
       "    <tr>\n",
       "      <th>5</th>\n",
       "      <td>LMO</td>\n",
       "      <td>0.2</td>\n",
       "      <td>9.04e-11</td>\n",
       "    </tr>\n",
       "    <tr>\n",
       "      <th>6</th>\n",
       "      <td>LMO</td>\n",
       "      <td>NaN</td>\n",
       "      <td>1.5e-12</td>\n",
       "    </tr>\n",
       "    <tr>\n",
       "      <th>7</th>\n",
       "      <td>LMO</td>\n",
       "      <td>0.3</td>\n",
       "      <td>2.97e-12</td>\n",
       "    </tr>\n",
       "    <tr>\n",
       "      <th>8</th>\n",
       "      <td>LMO</td>\n",
       "      <td>2-5</td>\n",
       "      <td>1.57e-7</td>\n",
       "    </tr>\n",
       "    <tr>\n",
       "      <th>9</th>\n",
       "      <td>LMO</td>\n",
       "      <td>10</td>\n",
       "      <td>1e-9 to 1e-7</td>\n",
       "    </tr>\n",
       "    <tr>\n",
       "      <th>10</th>\n",
       "      <td>LTO</td>\n",
       "      <td>0.45</td>\n",
       "      <td>1e-12 to 1.6e-11</td>\n",
       "    </tr>\n",
       "    <tr>\n",
       "      <th>11</th>\n",
       "      <td>LTO</td>\n",
       "      <td>NaN</td>\n",
       "      <td>2e-13 to 1.1e-12</td>\n",
       "    </tr>\n",
       "    <tr>\n",
       "      <th>12</th>\n",
       "      <td>LTO</td>\n",
       "      <td>0.2</td>\n",
       "      <td>1.03e-13</td>\n",
       "    </tr>\n",
       "    <tr>\n",
       "      <th>13</th>\n",
       "      <td>LTO</td>\n",
       "      <td>1-5</td>\n",
       "      <td>5.12e-14</td>\n",
       "    </tr>\n",
       "    <tr>\n",
       "      <th>14</th>\n",
       "      <td>LTO</td>\n",
       "      <td>0.09</td>\n",
       "      <td>1.04e-13</td>\n",
       "    </tr>\n",
       "    <tr>\n",
       "      <th>15</th>\n",
       "      <td>LTO</td>\n",
       "      <td>NaN</td>\n",
       "      <td>1e-12 to 1e-10</td>\n",
       "    </tr>\n",
       "    <tr>\n",
       "      <th>16</th>\n",
       "      <td>LFP</td>\n",
       "      <td>0.1</td>\n",
       "      <td>1.07e-12</td>\n",
       "    </tr>\n",
       "    <tr>\n",
       "      <th>17</th>\n",
       "      <td>LFP</td>\n",
       "      <td>0.2</td>\n",
       "      <td>1.3e-14 to 1.7e-14</td>\n",
       "    </tr>\n",
       "    <tr>\n",
       "      <th>18</th>\n",
       "      <td>LFP</td>\n",
       "      <td>0.2-0.5</td>\n",
       "      <td>1.11e-12 to 6.86e-11</td>\n",
       "    </tr>\n",
       "    <tr>\n",
       "      <th>19</th>\n",
       "      <td>LFP</td>\n",
       "      <td>0.2-0.4</td>\n",
       "      <td>7.86e-15 to 1.24e-14</td>\n",
       "    </tr>\n",
       "    <tr>\n",
       "      <th>20</th>\n",
       "      <td>LFP</td>\n",
       "      <td>0.05-0.35</td>\n",
       "      <td>1.25e-14 to 1.06e-13</td>\n",
       "    </tr>\n",
       "    <tr>\n",
       "      <th>21</th>\n",
       "      <td>LFP</td>\n",
       "      <td>0.1-0.5</td>\n",
       "      <td>1.13e-12 to 1.83e-11</td>\n",
       "    </tr>\n",
       "    <tr>\n",
       "      <th>22</th>\n",
       "      <td>LFP</td>\n",
       "      <td>0.8</td>\n",
       "      <td>6.48e-17 to 1.29e-14</td>\n",
       "    </tr>\n",
       "    <tr>\n",
       "      <th>23</th>\n",
       "      <td>Ternary</td>\n",
       "      <td>10</td>\n",
       "      <td>7.8e-11</td>\n",
       "    </tr>\n",
       "    <tr>\n",
       "      <th>24</th>\n",
       "      <td>Ternary</td>\n",
       "      <td>8</td>\n",
       "      <td>1.7e-11 to 6.5e-9</td>\n",
       "    </tr>\n",
       "    <tr>\n",
       "      <th>25</th>\n",
       "      <td>Ternary</td>\n",
       "      <td>2-5</td>\n",
       "      <td>1e-11 to 3e-11</td>\n",
       "    </tr>\n",
       "    <tr>\n",
       "      <th>26</th>\n",
       "      <td>Graphite</td>\n",
       "      <td>NaN</td>\n",
       "      <td>1.0e-11</td>\n",
       "    </tr>\n",
       "    <tr>\n",
       "      <th>27</th>\n",
       "      <td>Graphite</td>\n",
       "      <td>15</td>\n",
       "      <td>1.06e-10 to 1.93e-10</td>\n",
       "    </tr>\n",
       "    <tr>\n",
       "      <th>28</th>\n",
       "      <td>Graphite</td>\n",
       "      <td>10</td>\n",
       "      <td>1.1e-10 to 2.0e-9</td>\n",
       "    </tr>\n",
       "    <tr>\n",
       "      <th>29</th>\n",
       "      <td>Graphite</td>\n",
       "      <td>NaN</td>\n",
       "      <td>7.6e-11</td>\n",
       "    </tr>\n",
       "    <tr>\n",
       "      <th>30</th>\n",
       "      <td>Graphite</td>\n",
       "      <td>NaN</td>\n",
       "      <td>4.4e-6</td>\n",
       "    </tr>\n",
       "    <tr>\n",
       "      <th>31</th>\n",
       "      <td>Graphite</td>\n",
       "      <td>1-100</td>\n",
       "      <td>1e-9 to 1e-5</td>\n",
       "    </tr>\n",
       "  </tbody>\n",
       "</table>\n",
       "</div>"
      ],
      "text/plain": [
       "    Material particle_size_micro           dcoeff_cm2s\n",
       "0        LCO                5-10         1e-11 to 1e-7\n",
       "1        LCO                 NaN       1e-10 to 1.5e-9\n",
       "2        LCO                 0.5         1e-10 to 1e-8\n",
       "3        LCO                 1-5      4e-11 to 1.7e-10\n",
       "4        LCO                 0.1              1.34e-11\n",
       "5        LMO                 0.2              9.04e-11\n",
       "6        LMO                 NaN               1.5e-12\n",
       "7        LMO                 0.3              2.97e-12\n",
       "8        LMO                 2-5               1.57e-7\n",
       "9        LMO                  10          1e-9 to 1e-7\n",
       "10       LTO                0.45      1e-12 to 1.6e-11\n",
       "11       LTO                 NaN      2e-13 to 1.1e-12\n",
       "12       LTO                 0.2              1.03e-13\n",
       "13       LTO                 1-5              5.12e-14\n",
       "14       LTO                0.09              1.04e-13\n",
       "15       LTO                 NaN        1e-12 to 1e-10\n",
       "16       LFP                 0.1              1.07e-12\n",
       "17       LFP                 0.2    1.3e-14 to 1.7e-14\n",
       "18       LFP             0.2-0.5  1.11e-12 to 6.86e-11\n",
       "19       LFP             0.2-0.4  7.86e-15 to 1.24e-14\n",
       "20       LFP           0.05-0.35  1.25e-14 to 1.06e-13\n",
       "21       LFP             0.1-0.5  1.13e-12 to 1.83e-11\n",
       "22       LFP                 0.8  6.48e-17 to 1.29e-14\n",
       "23   Ternary                  10               7.8e-11\n",
       "24   Ternary                   8     1.7e-11 to 6.5e-9\n",
       "25   Ternary                 2-5        1e-11 to 3e-11\n",
       "26  Graphite                 NaN               1.0e-11\n",
       "27  Graphite                  15  1.06e-10 to 1.93e-10\n",
       "28  Graphite                  10     1.1e-10 to 2.0e-9\n",
       "29  Graphite                 NaN               7.6e-11\n",
       "30  Graphite                 NaN                4.4e-6\n",
       "31  Graphite               1-100          1e-9 to 1e-5"
      ]
     },
     "execution_count": 3,
     "metadata": {},
     "output_type": "execute_result"
    }
   ],
   "source": [
    "experimental_data = pd.read_csv(DATA_PATH / \"experimental_data.csv\")\n",
    "experimental_data"
   ]
  },
  {
   "cell_type": "markdown",
   "metadata": {},
   "source": [
    "In Xia et al.'s work, they propose the characteristic time of diffusion as a Figure Of Merit (FOM), $\\tau = \\frac{d^2}{D}$, that we will use to compare with our BMX-FC.\n",
    "\n",
    "For parameters involved we will use the mean experimental value, in the case that the value is missing we will fill it with the mean of the family, as is also done by Xia et al.\n",
    "\n",
    "We can start by defining an extra column with the mean characteristic lenght in $\\mu$m (`d_mean_micro`). We must consider that the values are separated by a middle gion (\"-\"), so we can split the string in each row by this character and then take the mean by changing each string to a float and by taking care of the NaN values:"
   ]
  },
  {
   "cell_type": "code",
   "execution_count": 4,
   "metadata": {},
   "outputs": [],
   "source": [
    "experimental_data[\"d_mean_micro\"] = experimental_data[\"particle_size_micro\"].str.split(\"-\").apply(\n",
    "    lambda x: np.mean([float(i) for i in x]) \n",
    "    if isinstance(x, list) \n",
    "    else np.nan\n",
    ").copy()"
   ]
  },
  {
   "cell_type": "markdown",
   "metadata": {},
   "source": [
    "Some values are missing so we fill them with the mean of the Family group:"
   ]
  },
  {
   "cell_type": "code",
   "execution_count": 5,
   "metadata": {},
   "outputs": [],
   "source": [
    "experimental_data[\"d_mean_micro\"] = experimental_data.groupby(\n",
    "    \"Material\", group_keys=False\n",
    ")[\"d_mean_micro\"].apply(lambda x: x.fillna(x.mean())).copy()"
   ]
  },
  {
   "cell_type": "markdown",
   "metadata": {},
   "source": [
    "Same can be done for the diffusion coefficient but now the values are separated with the string \" to \" and we do not have any NaN value"
   ]
  },
  {
   "cell_type": "code",
   "execution_count": 6,
   "metadata": {},
   "outputs": [
    {
     "data": {
      "text/plain": [
       "True"
      ]
     },
     "execution_count": 6,
     "metadata": {},
     "output_type": "execute_result"
    }
   ],
   "source": [
    "~experimental_data[\"dcoeff_cm2s\"].isna().any()"
   ]
  },
  {
   "cell_type": "markdown",
   "metadata": {},
   "source": [
    "The diffusion coefficient values are spread over a wide range of order of magnitudes, so we use the _geometric mean_ because it is a more appropriate measure than the _arithmetic mean_ which would be dominated by the larger value."
   ]
  },
  {
   "cell_type": "code",
   "execution_count": 7,
   "metadata": {},
   "outputs": [],
   "source": [
    "experimental_data[\"dcoeff_midpoint_cm2s\"] = experimental_data[\"dcoeff_cm2s\"].str.split(\" to \").apply(\n",
    "    lambda x: scipy.stats.gmean([float(i) for i in x])\n",
    ").copy()"
   ]
  },
  {
   "cell_type": "markdown",
   "metadata": {},
   "source": [
    "**Disclaimer**: the points in the Xia et al. chart will be displaced from their publication due to they use the _aritmetic mean_.\n",
    "\n",
    "We will use in this example the following $k^0$ value because is the midpoint of the distribution of the experimental works consulted"
   ]
  },
  {
   "cell_type": "code",
   "execution_count": 8,
   "metadata": {},
   "outputs": [],
   "source": [
    "K0 = 1e-7"
   ]
  },
  {
   "cell_type": "markdown",
   "metadata": {},
   "source": [
    "We will define some Python dicts that will be used in the following plots and are common to two or more of them"
   ]
  },
  {
   "cell_type": "code",
   "execution_count": 9,
   "metadata": {},
   "outputs": [],
   "source": [
    "systems = experimental_data[\"Material\"].unique()\n",
    "\n",
    "marker, color, socs, opss, opcrs, taus = {}, {}, {}, {}, {}, {}\n",
    "for sys, m, c in zip(systems, (\"s\", \"o\", \"D\", \"^\", \"v\", \"<\"), (None, \"red\", \"pink\", \"blue\", \"green\", \"orange\")):\n",
    "    marker[sys] = m\n",
    "    color[sys] = f\"tab:{c}\" if c is not None else \"k\"\n",
    "    socs[sys], opss[sys], opcrs[sys], taus[sys] = [], [], [], []"
   ]
  },
  {
   "cell_type": "code",
   "execution_count": 10,
   "metadata": {},
   "outputs": [],
   "source": [
    "spherical = pd.read_csv(DATA_PATH / \"simulated_map.csv\")"
   ]
  },
  {
   "cell_type": "markdown",
   "metadata": {},
   "source": [
    "## Metric preprocessing"
   ]
  },
  {
   "cell_type": "markdown",
   "metadata": {},
   "source": [
    "The four parametrs described at the beggining of this notebook ($D$, $k^0$, $C_r$, $d$) can be used to compute the dimensionless parameters of the galvanostatic model used in galpynsotatic:\n",
    "$$\n",
    "\\Xi = k^0 \\sqrt{\\frac{t_h}{C_r D}}; \\hspace{0.4cm} \\ell = \\frac{d^2}{2} \\left(\\frac{C_r}{D t_h}\\right)\n",
    "$$\n",
    "and use them to give color to each bar in the predictions plot."
   ]
  },
  {
   "cell_type": "code",
   "execution_count": 11,
   "metadata": {},
   "outputs": [],
   "source": [
    "for sys, dcoeff, d in experimental_data[\n",
    "    [\"Material\", \"dcoeff_midpoint_cm2s\", \"d_mean_micro\"]\n",
    "].values:\n",
    "    info = {\"d\": 1e-4 * d, \"dcoeff_\": dcoeff, \"k0_\": K0}\n",
    "    soc = gp.metric.umbem(info, dataset=spherical)\n",
    "\n",
    "    soc = soc if ~np.isnan(soc) else 0.0\n",
    "    socs[sys].append(soc)"
   ]
  },
  {
   "cell_type": "markdown",
   "metadata": {},
   "source": [
    "## Predictions of the optimal particle size and charging rate of the electrode material"
   ]
  },
  {
   "cell_type": "markdown",
   "metadata": {},
   "source": [
    "Predictions are made for the size that the particle in the electrode must be to obtain 80% of the charge in 15 minutes. \n",
    "\n",
    "In the plot, this size data is normalised by experimental size to allow a better comparison of experiments that can increase in size by one order of magnitude without considerable loss of charge retention with those extreme cases where a decrease of the size of two orders of magnitude would be necessary. The colour of each bar in the histogram is given by its initial performance, since with the new size they would all have the colour of the metric corresponding to 0.8."
   ]
  },
  {
   "cell_type": "code",
   "execution_count": 12,
   "metadata": {},
   "outputs": [
    {
     "data": {
      "image/png": "[encoded data removed]",
      "text/plain": [
       "<Figure size 1400x400 with 2 Axes>"
      ]
     },
     "metadata": {},
     "output_type": "display_data"
    }
   ],
   "source": [
    "fig, (ax1, ax2) = plt.subplots(1, 2, figsize=(14, 4))\n",
    "\n",
    "cmap = cm.get_cmap(\"viridis\")\n",
    "\n",
    "for i, (sys, dcoeff, d) in enumerate(\n",
    "    experimental_data[\n",
    "        [\"Material\", \"dcoeff_midpoint_cm2s\", \"d_mean_micro\"]\n",
    "    ].values\n",
    "):\n",
    "    info = {\"d\": 1e-4 * d, \"dcoeff_\": dcoeff, \"k0_\": K0}\n",
    "    umbem = gp.metric.umbem(info, full_output=True, dataset=spherical)\n",
    "    greg = umbem[\"greg\"]\n",
    "    \n",
    "    d0 = 1e-5 * d\n",
    "    if i in [5, 24, 30]:\n",
    "        d0 = 10.0 * d0\n",
    "    elif i in [11, 12, 13, 14]:\n",
    "        d0 = 1e-4 * d\n",
    "    elif i == 23:\n",
    "        d0 = 0.3 * d0\n",
    "        \n",
    "    try:\n",
    "        ops = gp.make_prediction.optimal_particle_size(greg, d0=d0)\n",
    "    except ValueError as e:\n",
    "        num = 100\n",
    "        if i in [22, 24]:\n",
    "            num = 1000\n",
    "        elif i in [12, 14]:\n",
    "            num = 225        \n",
    "                                  \n",
    "        loggrid = np.logspace(-7, -4, num=num)\n",
    "        for d0 in loggrid:\n",
    "            try:\n",
    "                ops = gp.make_prediction.optimal_particle_size(greg, d0=d0)\n",
    "                break\n",
    "            except ValueError as e:\n",
    "                ...\n",
    "    finally:\n",
    "        opss[sys].append(ops / d)\n",
    "    \n",
    "    c0 = 1.0\n",
    "    if i in [6, 14, 16, 17, 29]:\n",
    "        c0 = 0.1\n",
    "    elif i in [9, 13, 19, 22, 23, 26]:\n",
    "        c0 = 0.0025\n",
    "    \n",
    "    try:\n",
    "        greg.d = 1e-4 * d\n",
    "        opcr = gp.make_prediction.optimal_charging_rate(greg, c0=c0)\n",
    "    except ValueError as e:\n",
    "        ...\n",
    "    finally:\n",
    "        opcrs[sys].append(opcr)\n",
    "        \n",
    "x = np.linspace(0, 1, num=len(socs.keys()))\n",
    "w = 0.02\n",
    "for i, (ops, opcr, soc) in enumerate(\n",
    "    zip(opss.values(), opcrs.values(), socs.values())\n",
    "):\n",
    "    colors = [cmap(v) for v in soc]\n",
    "    xs = np.linspace(x[i] - (w / 2) * len(ops), x[i] + (w / 2) * len(ops), num=len(ops))\n",
    "    \n",
    "    ax1.bar(xs, ops, width=w, color=colors)\n",
    "    ax2.bar(xs, opcr, width=w, color=colors)\n",
    "\n",
    "ax1.axhline(y=1, color=\"tab:gray\", linestyle=\"dashed\", linewidth=1)\n",
    "ax1.set_xticks(x)\n",
    "ax1.set_xticklabels(opss.keys())\n",
    "ax1.set_yscale(\"log\")\n",
    "ax1.set_ylim((0.01, 30))\n",
    "ax1.set_ylabel(r\"$d_{opt} / d_{exp}$\")\n",
    "\n",
    "ax2.axhline(y=4, color=\"tab:gray\", linestyle=\"dashed\", linewidth=1)\n",
    "ax2.set_xticks(x)\n",
    "ax2.set_xticklabels(opcrs.keys())\n",
    "ax2.set_yscale(\"log\")\n",
    "ax2.set_ylim((0.001, 600))\n",
    "ax2.set_ylabel(\"optimal C-rate\")\n",
    "\n",
    "plt.show()"
   ]
  },
  {
   "cell_type": "markdown",
   "metadata": {},
   "source": [
    "We now save the predictions in different files, first for optimal particle size:"
   ]
  },
  {
   "cell_type": "code",
   "execution_count": 13,
   "metadata": {},
   "outputs": [],
   "source": [
    "experimental_data[\"optimal_particle_size\"] = np.concatenate(\n",
    "    np.asarray(list(opss.values()), dtype=object)\n",
    ") * experimental_data[\"d_mean_micro\"]\n",
    "\n",
    "experimental_data[\n",
    "    [\"Material\", \"d_mean_micro\", \"dcoeff_midpoint_cm2s\", \"optimal_particle_size\"]\n",
    "].to_csv(PREDICTIONS_PATH / \"particle_sizes.csv\", index=False)"
   ]
  },
  {
   "cell_type": "markdown",
   "metadata": {},
   "source": [
    "and now for optimal charging rate:"
   ]
  },
  {
   "cell_type": "code",
   "execution_count": 14,
   "metadata": {},
   "outputs": [],
   "source": [
    "experimental_data[\"optimal_charging_rate\"] = np.concatenate(np.asarray(list(opcrs.values()), dtype=object))\n",
    "\n",
    "experimental_data[\n",
    "    [\"Material\", \"d_mean_micro\", \"dcoeff_midpoint_cm2s\", \"optimal_charging_rate\"]\n",
    "].to_csv(PREDICTIONS_PATH / \"charging_rates.csv\", index=False)"
   ]
  }
 ],
 "metadata": {
  "kernelspec": {
   "display_name": "Python 3",
   "language": "python",
   "name": "python3"
  },
  "language_info": {
   "codemirror_mode": {
    "name": "ipython",
    "version": 3
   },
   "file_extension": ".py",
   "mimetype": "text/x-python",
   "name": "python",
   "nbconvert_exporter": "python",
   "pygments_lexer": "ipython3",
   "version": "3.8.10"
  }
 },
 "nbformat": 4,
 "nbformat_minor": 4
}
